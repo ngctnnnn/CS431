{
  "nbformat": 4,
  "nbformat_minor": 0,
  "metadata": {
    "colab": {
      "name": "DenseNet121-classification-JSRT#1.ipynb",
      "provenance": [],
      "collapsed_sections": [],
      "toc_visible": true
    },
    "kernelspec": {
      "display_name": "Python 3",
      "name": "python3"
    },
    "language_info": {
      "name": "python"
    },
    "accelerator": "GPU"
  },
  "cells": [
    {
      "cell_type": "markdown",
      "metadata": {
        "id": "381s5tFUbvBW"
      },
      "source": [
        "## Import"
      ]
    },
    {
      "cell_type": "code",
      "metadata": {
        "colab": {
          "base_uri": "https://localhost:8080/"
        },
        "id": "dazGJt32ehXe",
        "outputId": "38dfa02d-de2c-4b3c-e542-78c82888557d"
      },
      "source": [
        "from google.colab import drive\n",
        "drive.mount('/content/drive')"
      ],
      "execution_count": null,
      "outputs": [
        {
          "output_type": "stream",
          "name": "stdout",
          "text": [
            "Drive already mounted at /content/drive; to attempt to forcibly remount, call drive.mount(\"/content/drive\", force_remount=True).\n"
          ]
        }
      ]
    },
    {
      "cell_type": "code",
      "metadata": {
        "id": "SYuK6HQget4V"
      },
      "source": [
        "import tensorflow as tf\n",
        "import pandas as pd\n",
        "import numpy as np\n",
        "import matplotlib.pyplot as plt\n",
        "import pandas as pd\n",
        "import gc\n",
        "import os, sys\n",
        "import seaborn as sns\n",
        "from tqdm import tqdm\n",
        "\n",
        "from google.colab import files\n",
        "import cv2\n",
        "\n",
        "from sklearn.model_selection import train_test_split, KFold, cross_val_score, StratifiedKFold\n",
        "from sklearn.preprocessing import StandardScaler, LabelEncoder\n",
        "from sklearn.metrics import confusion_matrix, classification_report\n",
        "\n",
        "from tensorflow.keras.layers import Conv2D,Flatten,MaxPool2D,BatchNormalization,GlobalAveragePooling2D, Dense, Dropout\n",
        "from tensorflow.keras.callbacks import EarlyStopping, ModelCheckpoint, ReduceLROnPlateau\n",
        "from tensorflow.keras.optimizers import Adam, SGD\n",
        "from tensorflow.keras.preprocessing.image import ImageDataGenerator\n",
        "from tensorflow.keras.applications.densenet import DenseNet121 as DenseNet\n",
        "from tensorflow.keras.wrappers.scikit_learn import KerasClassifier\n",
        "from keras.models import load_model\n",
        "\n",
        "sns.set_style('darkgrid')"
      ],
      "execution_count": null,
      "outputs": []
    },
    {
      "cell_type": "markdown",
      "metadata": {
        "id": "Z7EmzsDtgRVB"
      },
      "source": [
        "## Link data"
      ]
    },
    {
      "cell_type": "code",
      "metadata": {
        "id": "iXlzlQJdfCjy"
      },
      "source": [
        "JSRT_dataset = '/content/drive/MyDrive/COURSES/CS431/Lung segmentation/Dataset/JSRT/preprocessed/'\n",
        "nodule = 'Nodule/'\n",
        "healthy ='Non-nodule/'"
      ],
      "execution_count": null,
      "outputs": []
    },
    {
      "cell_type": "code",
      "metadata": {
        "colab": {
          "base_uri": "https://localhost:8080/",
          "height": 414
        },
        "id": "3-6mBfuFhvKc",
        "outputId": "6fbc9d17-e62a-4c86-dedd-49f3363da4c1"
      },
      "source": [
        "df = {'file_name': [], 'label': []}\n",
        "df = pd.DataFrame(df)\n",
        "for filename in os.listdir(JSRT_dataset + nodule):\n",
        "    new_row = {'file_name': nodule+filename, 'label': 'nodule'}\n",
        "    df = df.append(new_row, ignore_index=True)\n",
        "\n",
        "for filename in os.listdir(JSRT_dataset+healthy):\n",
        "    new_row = {'file_name': healthy+filename, 'label': 'healthy'}\n",
        "    df = df.append(new_row, ignore_index=True)\n",
        "df"
      ],
      "execution_count": null,
      "outputs": [
        {
          "output_type": "execute_result",
          "data": {
            "text/html": [
              "<div>\n",
              "<style scoped>\n",
              "    .dataframe tbody tr th:only-of-type {\n",
              "        vertical-align: middle;\n",
              "    }\n",
              "\n",
              "    .dataframe tbody tr th {\n",
              "        vertical-align: top;\n",
              "    }\n",
              "\n",
              "    .dataframe thead th {\n",
              "        text-align: right;\n",
              "    }\n",
              "</style>\n",
              "<table border=\"1\" class=\"dataframe\">\n",
              "  <thead>\n",
              "    <tr style=\"text-align: right;\">\n",
              "      <th></th>\n",
              "      <th>file_name</th>\n",
              "      <th>label</th>\n",
              "    </tr>\n",
              "  </thead>\n",
              "  <tbody>\n",
              "    <tr>\n",
              "      <th>0</th>\n",
              "      <td>Nodule/JPCLN072.png</td>\n",
              "      <td>nodule</td>\n",
              "    </tr>\n",
              "    <tr>\n",
              "      <th>1</th>\n",
              "      <td>Nodule/JPCLN066.png</td>\n",
              "      <td>nodule</td>\n",
              "    </tr>\n",
              "    <tr>\n",
              "      <th>2</th>\n",
              "      <td>Nodule/JPCLN067.png</td>\n",
              "      <td>nodule</td>\n",
              "    </tr>\n",
              "    <tr>\n",
              "      <th>3</th>\n",
              "      <td>Nodule/JPCLN098.png</td>\n",
              "      <td>nodule</td>\n",
              "    </tr>\n",
              "    <tr>\n",
              "      <th>4</th>\n",
              "      <td>Nodule/JPCLN107.png</td>\n",
              "      <td>nodule</td>\n",
              "    </tr>\n",
              "    <tr>\n",
              "      <th>...</th>\n",
              "      <td>...</td>\n",
              "      <td>...</td>\n",
              "    </tr>\n",
              "    <tr>\n",
              "      <th>188</th>\n",
              "      <td>Non-nodule/JPCNN033.png</td>\n",
              "      <td>healthy</td>\n",
              "    </tr>\n",
              "    <tr>\n",
              "      <th>189</th>\n",
              "      <td>Non-nodule/JPCNN027.png</td>\n",
              "      <td>healthy</td>\n",
              "    </tr>\n",
              "    <tr>\n",
              "      <th>190</th>\n",
              "      <td>Non-nodule/JPCLN094.png</td>\n",
              "      <td>healthy</td>\n",
              "    </tr>\n",
              "    <tr>\n",
              "      <th>191</th>\n",
              "      <td>Non-nodule/JPCNN026.png</td>\n",
              "      <td>healthy</td>\n",
              "    </tr>\n",
              "    <tr>\n",
              "      <th>192</th>\n",
              "      <td>Non-nodule/JPCNN032.png</td>\n",
              "      <td>healthy</td>\n",
              "    </tr>\n",
              "  </tbody>\n",
              "</table>\n",
              "<p>193 rows × 2 columns</p>\n",
              "</div>"
            ],
            "text/plain": [
              "                   file_name    label\n",
              "0        Nodule/JPCLN072.png   nodule\n",
              "1        Nodule/JPCLN066.png   nodule\n",
              "2        Nodule/JPCLN067.png   nodule\n",
              "3        Nodule/JPCLN098.png   nodule\n",
              "4        Nodule/JPCLN107.png   nodule\n",
              "..                       ...      ...\n",
              "188  Non-nodule/JPCNN033.png  healthy\n",
              "189  Non-nodule/JPCNN027.png  healthy\n",
              "190  Non-nodule/JPCLN094.png  healthy\n",
              "191  Non-nodule/JPCNN026.png  healthy\n",
              "192  Non-nodule/JPCNN032.png  healthy\n",
              "\n",
              "[193 rows x 2 columns]"
            ]
          },
          "metadata": {},
          "execution_count": 4
        }
      ]
    },
    {
      "cell_type": "markdown",
      "metadata": {
        "id": "wOzMoVFgqce1"
      },
      "source": [
        "## Split train and test\n"
      ]
    },
    {
      "cell_type": "code",
      "metadata": {
        "id": "sfpmrK8vmeWH"
      },
      "source": [
        "# 90% train, 10% test\n",
        "train_df, test_df = train_test_split(df, test_size=0.1, random_state = 42)"
      ],
      "execution_count": null,
      "outputs": []
    },
    {
      "cell_type": "code",
      "metadata": {
        "id": "37LYKyKJtDY1"
      },
      "source": [
        "X_df = train_df.drop(columns=['label'])\n",
        "y_df = train_df['label']"
      ],
      "execution_count": null,
      "outputs": []
    },
    {
      "cell_type": "markdown",
      "metadata": {
        "id": "FjHJplhFZCRs"
      },
      "source": [
        "## Image Data Generator"
      ]
    },
    {
      "cell_type": "code",
      "metadata": {
        "id": "aCGD-0Gtsrgg"
      },
      "source": [
        "batch_size = 32\n",
        "img_height = 480\n",
        "img_width = 480\n",
        "target_size = (img_height, img_width)"
      ],
      "execution_count": null,
      "outputs": []
    },
    {
      "cell_type": "code",
      "metadata": {
        "id": "_XuDDdH2aEmM"
      },
      "source": [
        "train_datagen = ImageDataGenerator(rotation_range=10,\n",
        "                                    width_shift_range=0.1,\n",
        "                                    height_shift_range=0.1,\n",
        "                                    rescale=1.,\n",
        "                                    zoom_range=0.2,\n",
        "                                    fill_mode='nearest',\n",
        "                                    cval=0)\n",
        "\n",
        "test_datagen = ImageDataGenerator(rescale=1.)"
      ],
      "execution_count": null,
      "outputs": []
    },
    {
      "cell_type": "markdown",
      "metadata": {
        "id": "y33hjCRncsWa"
      },
      "source": [
        "## Create model"
      ]
    },
    {
      "cell_type": "code",
      "metadata": {
        "id": "6_8jYQ30hyFx"
      },
      "source": [
        "base_model = DenseNet(include_top=False, weights='imagenet', input_shape=(img_height, img_width, 3))"
      ],
      "execution_count": null,
      "outputs": []
    },
    {
      "cell_type": "code",
      "metadata": {
        "colab": {
          "base_uri": "https://localhost:8080/"
        },
        "id": "GE8zg12FjnEp",
        "outputId": "efc5fec7-0cbe-488d-a4a3-34c68769cb4b"
      },
      "source": [
        "len(base_model.layers)"
      ],
      "execution_count": null,
      "outputs": [
        {
          "output_type": "execute_result",
          "data": {
            "text/plain": [
              "427"
            ]
          },
          "metadata": {},
          "execution_count": 10
        }
      ]
    },
    {
      "cell_type": "code",
      "metadata": {
        "id": "bGoOTPMVctfD"
      },
      "source": [
        "for layer in base_model.layers[:427]:\n",
        "    layer.trainable = False"
      ],
      "execution_count": null,
      "outputs": []
    },
    {
      "cell_type": "code",
      "metadata": {
        "id": "L0N-govmyqkU"
      },
      "source": [
        "# for i, layer in enumerate(base_model.layers):\n",
        "#     print(i, layer.name, \"-\", layer.trainable)"
      ],
      "execution_count": null,
      "outputs": []
    },
    {
      "cell_type": "code",
      "metadata": {
        "id": "uTS6Wa3bcwJx"
      },
      "source": [
        "model = tf.keras.Sequential([\n",
        "    base_model,\n",
        "    Flatten(),\n",
        "    BatchNormalization(),\n",
        "    Dense(128, activation='elu'),\n",
        "    Dropout(0.5),\n",
        "    BatchNormalization(),\n",
        "    Dense(64, activation='elu'),\n",
        "    Dropout(0.5),\n",
        "    BatchNormalization(),\n",
        "    Dense(1, activation='sigmoid'),\n",
        "])"
      ],
      "execution_count": null,
      "outputs": []
    },
    {
      "cell_type": "code",
      "metadata": {
        "colab": {
          "base_uri": "https://localhost:8080/"
        },
        "id": "cBR4kmuwc36u",
        "outputId": "5a729613-be51-4f6a-b612-c196826ff1c1"
      },
      "source": [
        "model.compile(loss='binary_crossentropy', optimizer=SGD(learning_rate=5e-4), metrics=['accuracy'])\n",
        "model.summary()"
      ],
      "execution_count": null,
      "outputs": [
        {
          "output_type": "stream",
          "name": "stdout",
          "text": [
            "Model: \"sequential\"\n",
            "_________________________________________________________________\n",
            "Layer (type)                 Output Shape              Param #   \n",
            "=================================================================\n",
            "densenet121 (Functional)     (None, 15, 15, 1024)      7037504   \n",
            "_________________________________________________________________\n",
            "flatten (Flatten)            (None, 230400)            0         \n",
            "_________________________________________________________________\n",
            "batch_normalization (BatchNo (None, 230400)            921600    \n",
            "_________________________________________________________________\n",
            "dense (Dense)                (None, 128)               29491328  \n",
            "_________________________________________________________________\n",
            "dropout (Dropout)            (None, 128)               0         \n",
            "_________________________________________________________________\n",
            "batch_normalization_1 (Batch (None, 128)               512       \n",
            "_________________________________________________________________\n",
            "dense_1 (Dense)              (None, 64)                8256      \n",
            "_________________________________________________________________\n",
            "dropout_1 (Dropout)          (None, 64)                0         \n",
            "_________________________________________________________________\n",
            "batch_normalization_2 (Batch (None, 64)                256       \n",
            "_________________________________________________________________\n",
            "dense_2 (Dense)              (None, 1)                 65        \n",
            "=================================================================\n",
            "Total params: 37,459,521\n",
            "Trainable params: 29,960,833\n",
            "Non-trainable params: 7,498,688\n",
            "_________________________________________________________________\n"
          ]
        }
      ]
    },
    {
      "cell_type": "markdown",
      "metadata": {
        "id": "Tw2qabmxc71t"
      },
      "source": [
        "## Callbacks\n"
      ]
    },
    {
      "cell_type": "code",
      "metadata": {
        "id": "b_dVuRrjc5gC"
      },
      "source": [
        "patience = 3\n",
        "stop_patience = 5\n",
        "factor = 0.1\n",
        "callbacks = [\n",
        "    ModelCheckpoint(\"/content/drive/MyDrive/COURSES/CS431/Lung segmentation/model_checkpoints/densenet.h5\", save_weights_only=True, save_best_only=True, verbose = 1),\n",
        "    EarlyStopping(patience=stop_patience, monitor='val_loss', verbose=1),\n",
        "    ReduceLROnPlateau(monitor='val_loss', factor=factor, patience=patience, min_lr=1e-6, verbose=1)\n",
        "]"
      ],
      "execution_count": null,
      "outputs": []
    },
    {
      "cell_type": "markdown",
      "metadata": {
        "id": "X0fIDES3RNbT"
      },
      "source": [
        "## Build model"
      ]
    },
    {
      "cell_type": "code",
      "metadata": {
        "id": "Ag1qdxNlRPOL"
      },
      "source": [
        "def create_model():\n",
        "    base_model = DenseNet(include_top=False, weights='imagenet', input_shape=(img_height, img_width, 3))\n",
        "    for layer in base_model.layers[:427]:\n",
        "        layer.trainable = False\n",
        "    model = tf.keras.Sequential([\n",
        "        base_model,\n",
        "        Flatten(),\n",
        "        BatchNormalization(),\n",
        "        Dense(128, activation='elu'),\n",
        "        Dropout(0.5),\n",
        "        BatchNormalization(),\n",
        "        Dense(64, activation='elu'),\n",
        "        Dropout(0.5),\n",
        "        BatchNormalization(),\n",
        "        Dense(1, activation='sigmoid'),\n",
        "    ])\n",
        "    model.compile(loss='binary_crossentropy', optimizer=SGD(learning_rate=5e-4), metrics=['accuracy'])\n",
        "    return model"
      ],
      "execution_count": null,
      "outputs": []
    },
    {
      "cell_type": "markdown",
      "metadata": {
        "id": "cXw9P-yNhTAc"
      },
      "source": [
        "## K-fold and fit"
      ]
    },
    {
      "cell_type": "code",
      "metadata": {
        "id": "dHKIeDUVlkMi"
      },
      "source": [
        "epochs = 30\n",
        "KF_model = KerasClassifier(build_fn=model, epochs=epochs, batch_size=5, callbacks=callbacks, verbose=1)"
      ],
      "execution_count": null,
      "outputs": []
    },
    {
      "cell_type": "code",
      "metadata": {
        "id": "ddRxoSH-hUgJ"
      },
      "source": [
        "cv = StratifiedKFold(n_splits=10, random_state=1, shuffle=True)"
      ],
      "execution_count": null,
      "outputs": []
    },
    {
      "cell_type": "markdown",
      "metadata": {
        "id": "EL2g5_qAmb9y"
      },
      "source": [
        "## Test model"
      ]
    },
    {
      "cell_type": "code",
      "metadata": {
        "id": "sPfwi23rumg4"
      },
      "source": [
        "TRAIN_PATH = JSRT_dataset\n",
        "j = 0\n",
        "data_kfold = pd.DataFrame()"
      ],
      "execution_count": null,
      "outputs": []
    },
    {
      "cell_type": "code",
      "metadata": {
        "id": "zjjyGUVcmdtk",
        "colab": {
          "base_uri": "https://localhost:8080/"
        },
        "outputId": "df152437-ad07-4e65-e45c-2cb29d8450cd"
      },
      "source": [
        "for train_idx, val_idx in list(cv.split(X_df, y_df)):\n",
        "    x_train_df = df.iloc[train_idx]\n",
        "    x_valid_df = df.iloc[val_idx]\n",
        "\n",
        "    j += 1\n",
        "\n",
        "    training_set = train_datagen.flow_from_dataframe(dataframe=x_train_df, directory=TRAIN_PATH,\n",
        "\n",
        "                                                     x_col=\"file_name\", y_col=\"label\",\n",
        "\n",
        "                                                     class_mode=\"binary\",\n",
        "\n",
        "                                                     target_size=(img_height, img_width), batch_size=batch_size)\n",
        "\n",
        "    validation_set = test_datagen.flow_from_dataframe(dataframe=x_valid_df, directory=TRAIN_PATH,\n",
        "\n",
        "                                                            x_col=\"file_name\", y_col='label',\n",
        "\n",
        "                                                            class_mode=\"binary\",\n",
        "\n",
        "                                                            target_size=(img_height, img_width), batch_size=batch_size)\n",
        "\n",
        "    model = create_model()\n",
        "\n",
        "    history = model.fit_generator(training_set,\n",
        "                                validation_data=validation_set,\n",
        "                                epochs=epochs,\n",
        "                                callbacks=callbacks,\n",
        "                                verbose=1)\n",
        "\n",
        "    test_generator = ImageDataGenerator(rescale=1.)\n",
        "\n",
        "    test_set = test_generator.flow_from_dataframe(dataframe=test_df, directory=TRAIN_PATH,\n",
        "\n",
        "                                                  x_col=\"file_name\", y_col='label',\n",
        "\n",
        "                                                  class_mode='binary',\n",
        "\n",
        "                                                  target_size=(img_height, img_width))\n",
        "\n",
        "\n",
        "\n",
        "    best_model = model\n",
        "    best_model.evaluate(test_set)\n",
        "\n",
        "    # predicted_class_indices = np.argmax(pred, axis=1)\n",
        "\n",
        "    # data_kfold[j] = predicted_class_indices\n",
        "\n",
        "    # gc.collect()"
      ],
      "execution_count": null,
      "outputs": [
        {
          "output_type": "stream",
          "name": "stdout",
          "text": [
            "Found 155 validated image filenames belonging to 2 classes.\n",
            "Found 18 validated image filenames belonging to 2 classes.\n"
          ]
        },
        {
          "output_type": "stream",
          "name": "stderr",
          "text": [
            "/usr/local/lib/python3.7/dist-packages/keras/engine/training.py:1972: UserWarning: `Model.fit_generator` is deprecated and will be removed in a future version. Please use `Model.fit`, which supports generators.\n",
            "  warnings.warn('`Model.fit_generator` is deprecated and '\n"
          ]
        },
        {
          "output_type": "stream",
          "name": "stdout",
          "text": [
            "Epoch 1/30\n",
            "5/5 [==============================] - 44s 6s/step - loss: 1.0289 - accuracy: 0.3742 - val_loss: 1.0919 - val_accuracy: 0.5556\n",
            "\n",
            "Epoch 00001: val_loss improved from inf to 1.09195, saving model to /content/drive/MyDrive/COURSES/CS431/Lung segmentation/model_checkpoints/densenet.h5\n",
            "Epoch 2/30\n",
            "5/5 [==============================] - 22s 4s/step - loss: 0.7973 - accuracy: 0.5742 - val_loss: 0.8826 - val_accuracy: 0.6667\n",
            "\n",
            "Epoch 00002: val_loss improved from 1.09195 to 0.88264, saving model to /content/drive/MyDrive/COURSES/CS431/Lung segmentation/model_checkpoints/densenet.h5\n",
            "Epoch 3/30\n",
            "5/5 [==============================] - 22s 4s/step - loss: 0.8979 - accuracy: 0.5290 - val_loss: 0.9169 - val_accuracy: 0.6667\n",
            "\n",
            "Epoch 00003: val_loss did not improve from 0.88264\n",
            "Epoch 4/30\n",
            "5/5 [==============================] - 22s 4s/step - loss: 0.8497 - accuracy: 0.5097 - val_loss: 0.8561 - val_accuracy: 0.6111\n",
            "\n",
            "Epoch 00004: val_loss improved from 0.88264 to 0.85614, saving model to /content/drive/MyDrive/COURSES/CS431/Lung segmentation/model_checkpoints/densenet.h5\n",
            "Epoch 5/30\n",
            "5/5 [==============================] - 22s 4s/step - loss: 0.7268 - accuracy: 0.6323 - val_loss: 1.1815 - val_accuracy: 0.5556\n",
            "\n",
            "Epoch 00005: val_loss did not improve from 0.85614\n",
            "Epoch 6/30\n",
            "5/5 [==============================] - 22s 4s/step - loss: 0.7385 - accuracy: 0.5935 - val_loss: 1.2498 - val_accuracy: 0.5556\n",
            "\n",
            "Epoch 00006: val_loss did not improve from 0.85614\n",
            "Epoch 7/30\n",
            "5/5 [==============================] - 22s 4s/step - loss: 0.7442 - accuracy: 0.6645 - val_loss: 1.1264 - val_accuracy: 0.5556\n",
            "\n",
            "Epoch 00007: val_loss did not improve from 0.85614\n",
            "\n",
            "Epoch 00007: ReduceLROnPlateau reducing learning rate to 5.0000002374872565e-05.\n",
            "Epoch 8/30\n",
            "5/5 [==============================] - 22s 4s/step - loss: 0.7204 - accuracy: 0.5806 - val_loss: 1.0936 - val_accuracy: 0.5556\n",
            "\n",
            "Epoch 00008: val_loss did not improve from 0.85614\n",
            "Epoch 9/30\n",
            "5/5 [==============================] - 22s 4s/step - loss: 0.7688 - accuracy: 0.5419 - val_loss: 1.0684 - val_accuracy: 0.5556\n",
            "\n",
            "Epoch 00009: val_loss did not improve from 0.85614\n",
            "Epoch 00009: early stopping\n",
            "Found 20 validated image filenames belonging to 2 classes.\n",
            "1/1 [==============================] - 6s 6s/step - loss: 0.6343 - accuracy: 0.6500\n",
            "Found 155 validated image filenames belonging to 2 classes.\n",
            "Found 18 validated image filenames belonging to 2 classes.\n"
          ]
        },
        {
          "output_type": "stream",
          "name": "stderr",
          "text": [
            "/usr/local/lib/python3.7/dist-packages/keras/engine/training.py:1972: UserWarning: `Model.fit_generator` is deprecated and will be removed in a future version. Please use `Model.fit`, which supports generators.\n",
            "  warnings.warn('`Model.fit_generator` is deprecated and '\n"
          ]
        },
        {
          "output_type": "stream",
          "name": "stdout",
          "text": [
            "Epoch 1/30\n",
            "5/5 [==============================] - 32s 5s/step - loss: 0.8205 - accuracy: 0.5548 - val_loss: 1.4880 - val_accuracy: 0.6111\n",
            "\n",
            "Epoch 00001: val_loss did not improve from 0.85614\n",
            "Epoch 2/30\n",
            "5/5 [==============================] - 21s 4s/step - loss: 0.7540 - accuracy: 0.5677 - val_loss: 1.1047 - val_accuracy: 0.6111\n",
            "\n",
            "Epoch 00002: val_loss did not improve from 0.85614\n",
            "Epoch 3/30\n",
            "5/5 [==============================] - 22s 4s/step - loss: 0.7122 - accuracy: 0.6258 - val_loss: 1.0221 - val_accuracy: 0.4444\n",
            "\n",
            "Epoch 00003: val_loss did not improve from 0.85614\n",
            "Epoch 4/30\n",
            "5/5 [==============================] - 21s 4s/step - loss: 0.6729 - accuracy: 0.6000 - val_loss: 1.1268 - val_accuracy: 0.3333\n",
            "\n",
            "Epoch 00004: val_loss did not improve from 0.85614\n",
            "Epoch 5/30\n",
            "5/5 [==============================] - 22s 4s/step - loss: 0.6934 - accuracy: 0.6581 - val_loss: 0.9562 - val_accuracy: 0.4444\n",
            "\n",
            "Epoch 00005: val_loss did not improve from 0.85614\n",
            "Epoch 6/30\n",
            "5/5 [==============================] - 22s 4s/step - loss: 0.7351 - accuracy: 0.6452 - val_loss: 1.1015 - val_accuracy: 0.3889\n",
            "\n",
            "Epoch 00006: val_loss did not improve from 0.85614\n",
            "Epoch 7/30\n",
            "5/5 [==============================] - 21s 4s/step - loss: 0.6836 - accuracy: 0.6452 - val_loss: 1.1510 - val_accuracy: 0.3889\n",
            "\n",
            "Epoch 00007: val_loss did not improve from 0.85614\n",
            "Epoch 8/30\n",
            "5/5 [==============================] - 21s 4s/step - loss: 0.7372 - accuracy: 0.5677 - val_loss: 1.2031 - val_accuracy: 0.3889\n",
            "\n",
            "Epoch 00008: val_loss did not improve from 0.85614\n",
            "\n",
            "Epoch 00008: ReduceLROnPlateau reducing learning rate to 5.0000002374872565e-05.\n",
            "Epoch 9/30\n",
            "5/5 [==============================] - 22s 4s/step - loss: 0.7269 - accuracy: 0.6258 - val_loss: 1.2154 - val_accuracy: 0.3889\n",
            "\n",
            "Epoch 00009: val_loss did not improve from 0.85614\n",
            "Epoch 10/30\n",
            "5/5 [==============================] - 22s 5s/step - loss: 0.7428 - accuracy: 0.5806 - val_loss: 1.2197 - val_accuracy: 0.3889\n",
            "\n",
            "Epoch 00010: val_loss did not improve from 0.85614\n",
            "Epoch 00010: early stopping\n",
            "Found 20 validated image filenames belonging to 2 classes.\n",
            "1/1 [==============================] - 2s 2s/step - loss: 0.6108 - accuracy: 0.6500\n",
            "Found 155 validated image filenames belonging to 2 classes.\n",
            "Found 18 validated image filenames belonging to 2 classes.\n"
          ]
        },
        {
          "output_type": "stream",
          "name": "stderr",
          "text": [
            "/usr/local/lib/python3.7/dist-packages/keras/engine/training.py:1972: UserWarning: `Model.fit_generator` is deprecated and will be removed in a future version. Please use `Model.fit`, which supports generators.\n",
            "  warnings.warn('`Model.fit_generator` is deprecated and '\n"
          ]
        },
        {
          "output_type": "stream",
          "name": "stdout",
          "text": [
            "Epoch 1/30\n",
            "5/5 [==============================] - 34s 5s/step - loss: 0.9681 - accuracy: 0.5290 - val_loss: 1.4366 - val_accuracy: 0.4444\n",
            "\n",
            "Epoch 00001: val_loss did not improve from 0.85614\n",
            "Epoch 2/30\n",
            "5/5 [==============================] - 22s 4s/step - loss: 0.8892 - accuracy: 0.5613 - val_loss: 1.0877 - val_accuracy: 0.5556\n",
            "\n",
            "Epoch 00002: val_loss did not improve from 0.85614\n",
            "Epoch 3/30\n",
            "5/5 [==============================] - 22s 4s/step - loss: 0.7983 - accuracy: 0.5677 - val_loss: 1.1013 - val_accuracy: 0.6111\n",
            "\n",
            "Epoch 00003: val_loss did not improve from 0.85614\n",
            "Epoch 4/30\n",
            "5/5 [==============================] - 22s 4s/step - loss: 0.7769 - accuracy: 0.6065 - val_loss: 1.2903 - val_accuracy: 0.5000\n",
            "\n",
            "Epoch 00004: val_loss did not improve from 0.85614\n",
            "Epoch 5/30\n",
            "5/5 [==============================] - 22s 4s/step - loss: 0.6969 - accuracy: 0.6194 - val_loss: 1.4351 - val_accuracy: 0.5000\n",
            "\n",
            "Epoch 00005: val_loss did not improve from 0.85614\n",
            "\n",
            "Epoch 00005: ReduceLROnPlateau reducing learning rate to 5.0000002374872565e-05.\n",
            "Epoch 6/30\n",
            "5/5 [==============================] - 22s 5s/step - loss: 0.7017 - accuracy: 0.6129 - val_loss: 1.3184 - val_accuracy: 0.5000\n",
            "\n",
            "Epoch 00006: val_loss did not improve from 0.85614\n",
            "Epoch 7/30\n",
            "5/5 [==============================] - 22s 5s/step - loss: 0.6521 - accuracy: 0.6258 - val_loss: 1.2391 - val_accuracy: 0.5000\n",
            "\n",
            "Epoch 00007: val_loss did not improve from 0.85614\n",
            "Epoch 00007: early stopping\n",
            "Found 20 validated image filenames belonging to 2 classes.\n",
            "1/1 [==============================] - 2s 2s/step - loss: 1.1625 - accuracy: 0.6000\n",
            "Found 156 validated image filenames belonging to 2 classes.\n",
            "Found 17 validated image filenames belonging to 2 classes.\n"
          ]
        },
        {
          "output_type": "stream",
          "name": "stderr",
          "text": [
            "/usr/local/lib/python3.7/dist-packages/keras/engine/training.py:1972: UserWarning: `Model.fit_generator` is deprecated and will be removed in a future version. Please use `Model.fit`, which supports generators.\n",
            "  warnings.warn('`Model.fit_generator` is deprecated and '\n"
          ]
        },
        {
          "output_type": "stream",
          "name": "stdout",
          "text": [
            "Epoch 1/30\n",
            "5/5 [==============================] - 39s 7s/step - loss: 0.8264 - accuracy: 0.5513 - val_loss: 2.2969 - val_accuracy: 0.2941\n",
            "\n",
            "Epoch 00001: val_loss did not improve from 0.85614\n",
            "Epoch 2/30\n",
            "5/5 [==============================] - 22s 4s/step - loss: 0.7754 - accuracy: 0.5321 - val_loss: 1.6125 - val_accuracy: 0.2941\n",
            "\n",
            "Epoch 00002: val_loss did not improve from 0.85614\n",
            "Epoch 3/30\n",
            "5/5 [==============================] - 22s 4s/step - loss: 0.7572 - accuracy: 0.5705 - val_loss: 1.0943 - val_accuracy: 0.4706\n",
            "\n",
            "Epoch 00003: val_loss did not improve from 0.85614\n",
            "Epoch 4/30\n",
            "5/5 [==============================] - 22s 4s/step - loss: 0.8087 - accuracy: 0.5577 - val_loss: 0.9195 - val_accuracy: 0.4706\n",
            "\n",
            "Epoch 00004: val_loss did not improve from 0.85614\n",
            "Epoch 5/30\n",
            "5/5 [==============================] - 22s 4s/step - loss: 0.6905 - accuracy: 0.6218 - val_loss: 0.8223 - val_accuracy: 0.4118\n",
            "\n",
            "Epoch 00005: val_loss improved from 0.85614 to 0.82235, saving model to /content/drive/MyDrive/COURSES/CS431/Lung segmentation/model_checkpoints/densenet.h5\n",
            "Epoch 6/30\n",
            "5/5 [==============================] - 23s 4s/step - loss: 0.5868 - accuracy: 0.6603 - val_loss: 0.6313 - val_accuracy: 0.5294\n",
            "\n",
            "Epoch 00006: val_loss improved from 0.82235 to 0.63127, saving model to /content/drive/MyDrive/COURSES/CS431/Lung segmentation/model_checkpoints/densenet.h5\n",
            "Epoch 7/30\n",
            "5/5 [==============================] - 23s 4s/step - loss: 0.7196 - accuracy: 0.6667 - val_loss: 0.6047 - val_accuracy: 0.7059\n",
            "\n",
            "Epoch 00007: val_loss improved from 0.63127 to 0.60475, saving model to /content/drive/MyDrive/COURSES/CS431/Lung segmentation/model_checkpoints/densenet.h5\n",
            "Epoch 8/30\n",
            "5/5 [==============================] - 22s 4s/step - loss: 0.7660 - accuracy: 0.6538 - val_loss: 0.5842 - val_accuracy: 0.7059\n",
            "\n",
            "Epoch 00008: val_loss improved from 0.60475 to 0.58416, saving model to /content/drive/MyDrive/COURSES/CS431/Lung segmentation/model_checkpoints/densenet.h5\n",
            "Epoch 9/30\n",
            "5/5 [==============================] - 23s 5s/step - loss: 0.7201 - accuracy: 0.5833 - val_loss: 0.5474 - val_accuracy: 0.7647\n",
            "\n",
            "Epoch 00009: val_loss improved from 0.58416 to 0.54736, saving model to /content/drive/MyDrive/COURSES/CS431/Lung segmentation/model_checkpoints/densenet.h5\n",
            "Epoch 10/30\n",
            "5/5 [==============================] - 22s 4s/step - loss: 0.5687 - accuracy: 0.7115 - val_loss: 0.5050 - val_accuracy: 0.7647\n",
            "\n",
            "Epoch 00010: val_loss improved from 0.54736 to 0.50500, saving model to /content/drive/MyDrive/COURSES/CS431/Lung segmentation/model_checkpoints/densenet.h5\n",
            "Epoch 11/30\n",
            "5/5 [==============================] - 23s 5s/step - loss: 0.7243 - accuracy: 0.6026 - val_loss: 0.5569 - val_accuracy: 0.7059\n",
            "\n",
            "Epoch 00011: val_loss did not improve from 0.50500\n",
            "Epoch 12/30\n",
            "5/5 [==============================] - 22s 4s/step - loss: 0.5973 - accuracy: 0.6667 - val_loss: 0.5160 - val_accuracy: 0.7059\n",
            "\n",
            "Epoch 00012: val_loss did not improve from 0.50500\n",
            "Epoch 13/30\n",
            "5/5 [==============================] - 22s 4s/step - loss: 0.6627 - accuracy: 0.6282 - val_loss: 0.5319 - val_accuracy: 0.7059\n",
            "\n",
            "Epoch 00013: val_loss did not improve from 0.50500\n",
            "\n",
            "Epoch 00013: ReduceLROnPlateau reducing learning rate to 5.0000002374872565e-05.\n",
            "Epoch 14/30\n",
            "5/5 [==============================] - 22s 4s/step - loss: 0.6643 - accuracy: 0.6667 - val_loss: 0.5318 - val_accuracy: 0.7059\n",
            "\n",
            "Epoch 00014: val_loss did not improve from 0.50500\n",
            "Epoch 15/30\n",
            "5/5 [==============================] - 22s 5s/step - loss: 0.6311 - accuracy: 0.6795 - val_loss: 0.5326 - val_accuracy: 0.7059\n",
            "\n",
            "Epoch 00015: val_loss did not improve from 0.50500\n",
            "Epoch 00015: early stopping\n",
            "Found 20 validated image filenames belonging to 2 classes.\n",
            "1/1 [==============================] - 2s 2s/step - loss: 0.4849 - accuracy: 0.7000\n",
            "Found 156 validated image filenames belonging to 2 classes.\n",
            "Found 17 validated image filenames belonging to 2 classes.\n"
          ]
        },
        {
          "output_type": "stream",
          "name": "stderr",
          "text": [
            "/usr/local/lib/python3.7/dist-packages/keras/engine/training.py:1972: UserWarning: `Model.fit_generator` is deprecated and will be removed in a future version. Please use `Model.fit`, which supports generators.\n",
            "  warnings.warn('`Model.fit_generator` is deprecated and '\n"
          ]
        },
        {
          "output_type": "stream",
          "name": "stdout",
          "text": [
            "Epoch 1/30\n",
            "5/5 [==============================] - 33s 5s/step - loss: 0.8589 - accuracy: 0.4936 - val_loss: 0.7972 - val_accuracy: 0.4706\n",
            "\n",
            "Epoch 00001: val_loss did not improve from 0.50500\n",
            "Epoch 2/30\n",
            "5/5 [==============================] - 22s 4s/step - loss: 0.8429 - accuracy: 0.5577 - val_loss: 0.6539 - val_accuracy: 0.5294\n",
            "\n",
            "Epoch 00002: val_loss did not improve from 0.50500\n",
            "Epoch 3/30\n",
            "5/5 [==============================] - 22s 4s/step - loss: 0.8740 - accuracy: 0.4936 - val_loss: 0.6098 - val_accuracy: 0.6471\n",
            "\n",
            "Epoch 00003: val_loss did not improve from 0.50500\n",
            "Epoch 4/30\n",
            "5/5 [==============================] - 21s 4s/step - loss: 0.6487 - accuracy: 0.6474 - val_loss: 0.6401 - val_accuracy: 0.6471\n",
            "\n",
            "Epoch 00004: val_loss did not improve from 0.50500\n",
            "Epoch 5/30\n",
            "5/5 [==============================] - 21s 4s/step - loss: 0.7147 - accuracy: 0.6410 - val_loss: 0.6430 - val_accuracy: 0.5882\n",
            "\n",
            "Epoch 00005: val_loss did not improve from 0.50500\n",
            "Epoch 6/30\n",
            "5/5 [==============================] - 21s 4s/step - loss: 0.7344 - accuracy: 0.5769 - val_loss: 0.6395 - val_accuracy: 0.7059\n",
            "\n",
            "Epoch 00006: val_loss did not improve from 0.50500\n",
            "\n",
            "Epoch 00006: ReduceLROnPlateau reducing learning rate to 5.0000002374872565e-05.\n",
            "Epoch 7/30\n",
            "5/5 [==============================] - 21s 4s/step - loss: 0.6706 - accuracy: 0.6538 - val_loss: 0.6390 - val_accuracy: 0.7059\n",
            "\n",
            "Epoch 00007: val_loss did not improve from 0.50500\n",
            "Epoch 8/30\n",
            "5/5 [==============================] - 21s 4s/step - loss: 0.6916 - accuracy: 0.6859 - val_loss: 0.6327 - val_accuracy: 0.6471\n",
            "\n",
            "Epoch 00008: val_loss did not improve from 0.50500\n",
            "Epoch 00008: early stopping\n",
            "Found 20 validated image filenames belonging to 2 classes.\n",
            "1/1 [==============================] - 2s 2s/step - loss: 0.4514 - accuracy: 0.7500\n",
            "Found 156 validated image filenames belonging to 2 classes.\n",
            "Found 17 validated image filenames belonging to 2 classes.\n"
          ]
        },
        {
          "output_type": "stream",
          "name": "stderr",
          "text": [
            "/usr/local/lib/python3.7/dist-packages/keras/engine/training.py:1972: UserWarning: `Model.fit_generator` is deprecated and will be removed in a future version. Please use `Model.fit`, which supports generators.\n",
            "  warnings.warn('`Model.fit_generator` is deprecated and '\n"
          ]
        },
        {
          "output_type": "stream",
          "name": "stdout",
          "text": [
            "Epoch 1/30\n",
            "5/5 [==============================] - 32s 5s/step - loss: 0.8907 - accuracy: 0.5064 - val_loss: 0.5528 - val_accuracy: 0.7059\n",
            "\n",
            "Epoch 00001: val_loss did not improve from 0.50500\n",
            "Epoch 2/30\n",
            "5/5 [==============================] - 21s 4s/step - loss: 0.7910 - accuracy: 0.5641 - val_loss: 0.5397 - val_accuracy: 0.7059\n",
            "\n",
            "Epoch 00002: val_loss did not improve from 0.50500\n",
            "Epoch 3/30\n",
            "5/5 [==============================] - 21s 4s/step - loss: 0.7255 - accuracy: 0.6090 - val_loss: 0.5050 - val_accuracy: 0.7059\n",
            "\n",
            "Epoch 00003: val_loss improved from 0.50500 to 0.50495, saving model to /content/drive/MyDrive/COURSES/CS431/Lung segmentation/model_checkpoints/densenet.h5\n",
            "Epoch 4/30\n",
            "5/5 [==============================] - 22s 4s/step - loss: 0.7106 - accuracy: 0.6410 - val_loss: 0.5384 - val_accuracy: 0.7059\n",
            "\n",
            "Epoch 00004: val_loss did not improve from 0.50495\n",
            "Epoch 5/30\n",
            "5/5 [==============================] - 21s 4s/step - loss: 0.8994 - accuracy: 0.5128 - val_loss: 0.6013 - val_accuracy: 0.7059\n",
            "\n",
            "Epoch 00005: val_loss did not improve from 0.50495\n",
            "Epoch 6/30\n",
            "5/5 [==============================] - 21s 4s/step - loss: 0.7421 - accuracy: 0.5769 - val_loss: 0.5104 - val_accuracy: 0.6471\n",
            "\n",
            "Epoch 00006: val_loss did not improve from 0.50495\n",
            "\n",
            "Epoch 00006: ReduceLROnPlateau reducing learning rate to 5.0000002374872565e-05.\n",
            "Epoch 7/30\n",
            "5/5 [==============================] - 21s 4s/step - loss: 0.6615 - accuracy: 0.6282 - val_loss: 0.5069 - val_accuracy: 0.6471\n",
            "\n",
            "Epoch 00007: val_loss did not improve from 0.50495\n",
            "Epoch 8/30\n",
            "5/5 [==============================] - 21s 4s/step - loss: 0.7243 - accuracy: 0.6154 - val_loss: 0.5163 - val_accuracy: 0.6471\n",
            "\n",
            "Epoch 00008: val_loss did not improve from 0.50495\n",
            "Epoch 00008: early stopping\n",
            "Found 20 validated image filenames belonging to 2 classes.\n",
            "1/1 [==============================] - 2s 2s/step - loss: 0.6247 - accuracy: 0.6500\n",
            "Found 156 validated image filenames belonging to 2 classes.\n",
            "Found 17 validated image filenames belonging to 2 classes.\n"
          ]
        },
        {
          "output_type": "stream",
          "name": "stderr",
          "text": [
            "/usr/local/lib/python3.7/dist-packages/keras/engine/training.py:1972: UserWarning: `Model.fit_generator` is deprecated and will be removed in a future version. Please use `Model.fit`, which supports generators.\n",
            "  warnings.warn('`Model.fit_generator` is deprecated and '\n"
          ]
        },
        {
          "output_type": "stream",
          "name": "stdout",
          "text": [
            "Epoch 1/30\n",
            "5/5 [==============================] - 31s 5s/step - loss: 1.0518 - accuracy: 0.4103 - val_loss: 1.1116 - val_accuracy: 0.4118\n",
            "\n",
            "Epoch 00001: val_loss did not improve from 0.50495\n",
            "Epoch 2/30\n",
            "5/5 [==============================] - 21s 4s/step - loss: 0.9580 - accuracy: 0.5256 - val_loss: 0.7350 - val_accuracy: 0.6471\n",
            "\n",
            "Epoch 00002: val_loss did not improve from 0.50495\n",
            "Epoch 3/30\n",
            "5/5 [==============================] - 20s 4s/step - loss: 0.8972 - accuracy: 0.5000 - val_loss: 0.7099 - val_accuracy: 0.6471\n",
            "\n",
            "Epoch 00003: val_loss did not improve from 0.50495\n",
            "Epoch 4/30\n",
            "5/5 [==============================] - 21s 4s/step - loss: 0.7053 - accuracy: 0.6346 - val_loss: 0.7079 - val_accuracy: 0.6471\n",
            "\n",
            "Epoch 00004: val_loss did not improve from 0.50495\n",
            "Epoch 5/30\n",
            "5/5 [==============================] - 21s 4s/step - loss: 0.6922 - accuracy: 0.5897 - val_loss: 0.7928 - val_accuracy: 0.7647\n",
            "\n",
            "Epoch 00005: val_loss did not improve from 0.50495\n",
            "Epoch 6/30\n",
            "5/5 [==============================] - 21s 4s/step - loss: 0.6665 - accuracy: 0.6538 - val_loss: 0.7693 - val_accuracy: 0.7647\n",
            "\n",
            "Epoch 00006: val_loss did not improve from 0.50495\n",
            "Epoch 7/30\n",
            "5/5 [==============================] - 21s 4s/step - loss: 0.6782 - accuracy: 0.6731 - val_loss: 0.7335 - val_accuracy: 0.7647\n",
            "\n",
            "Epoch 00007: val_loss did not improve from 0.50495\n",
            "\n",
            "Epoch 00007: ReduceLROnPlateau reducing learning rate to 5.0000002374872565e-05.\n",
            "Epoch 8/30\n",
            "5/5 [==============================] - 21s 4s/step - loss: 0.6831 - accuracy: 0.6282 - val_loss: 0.7123 - val_accuracy: 0.7647\n",
            "\n",
            "Epoch 00008: val_loss did not improve from 0.50495\n",
            "Epoch 9/30\n",
            "5/5 [==============================] - 21s 4s/step - loss: 0.7054 - accuracy: 0.6026 - val_loss: 0.7088 - val_accuracy: 0.7647\n",
            "\n",
            "Epoch 00009: val_loss did not improve from 0.50495\n",
            "Epoch 00009: early stopping\n",
            "Found 20 validated image filenames belonging to 2 classes.\n",
            "1/1 [==============================] - 2s 2s/step - loss: 0.5909 - accuracy: 0.6500\n",
            "Found 156 validated image filenames belonging to 2 classes.\n",
            "Found 17 validated image filenames belonging to 2 classes.\n"
          ]
        },
        {
          "output_type": "stream",
          "name": "stderr",
          "text": [
            "/usr/local/lib/python3.7/dist-packages/keras/engine/training.py:1972: UserWarning: `Model.fit_generator` is deprecated and will be removed in a future version. Please use `Model.fit`, which supports generators.\n",
            "  warnings.warn('`Model.fit_generator` is deprecated and '\n"
          ]
        },
        {
          "output_type": "stream",
          "name": "stdout",
          "text": [
            "Epoch 1/30\n",
            "5/5 [==============================] - 33s 5s/step - loss: 0.8902 - accuracy: 0.4744 - val_loss: 0.7102 - val_accuracy: 0.7647\n",
            "\n",
            "Epoch 00001: val_loss did not improve from 0.50495\n",
            "Epoch 2/30\n",
            "5/5 [==============================] - 21s 4s/step - loss: 1.0017 - accuracy: 0.5000 - val_loss: 0.8002 - val_accuracy: 0.6471\n",
            "\n",
            "Epoch 00002: val_loss did not improve from 0.50495\n",
            "Epoch 3/30\n",
            "5/5 [==============================] - 21s 4s/step - loss: 0.8104 - accuracy: 0.5769 - val_loss: 0.8016 - val_accuracy: 0.7059\n",
            "\n",
            "Epoch 00003: val_loss did not improve from 0.50495\n",
            "Epoch 4/30\n",
            "5/5 [==============================] - 22s 4s/step - loss: 0.8431 - accuracy: 0.5256 - val_loss: 0.7703 - val_accuracy: 0.7059\n",
            "\n",
            "Epoch 00004: val_loss did not improve from 0.50495\n",
            "\n",
            "Epoch 00004: ReduceLROnPlateau reducing learning rate to 5.0000002374872565e-05.\n",
            "Epoch 5/30\n",
            "5/5 [==============================] - 21s 4s/step - loss: 0.7407 - accuracy: 0.6282 - val_loss: 0.7341 - val_accuracy: 0.7059\n",
            "\n",
            "Epoch 00005: val_loss did not improve from 0.50495\n",
            "Epoch 6/30\n",
            "5/5 [==============================] - 22s 4s/step - loss: 0.7542 - accuracy: 0.5769 - val_loss: 0.6908 - val_accuracy: 0.7059\n",
            "\n",
            "Epoch 00006: val_loss did not improve from 0.50495\n",
            "Epoch 7/30\n",
            "5/5 [==============================] - 22s 4s/step - loss: 0.7028 - accuracy: 0.6667 - val_loss: 0.6583 - val_accuracy: 0.7059\n",
            "\n",
            "Epoch 00007: val_loss did not improve from 0.50495\n",
            "Epoch 8/30\n",
            "5/5 [==============================] - 22s 4s/step - loss: 0.8003 - accuracy: 0.5577 - val_loss: 0.6526 - val_accuracy: 0.7059\n",
            "\n",
            "Epoch 00008: val_loss did not improve from 0.50495\n",
            "Epoch 9/30\n",
            "5/5 [==============================] - 22s 4s/step - loss: 0.6316 - accuracy: 0.6218 - val_loss: 0.6367 - val_accuracy: 0.7059\n",
            "\n",
            "Epoch 00009: val_loss did not improve from 0.50495\n",
            "Epoch 10/30\n",
            "5/5 [==============================] - 21s 4s/step - loss: 0.6910 - accuracy: 0.6474 - val_loss: 0.6276 - val_accuracy: 0.7059\n",
            "\n",
            "Epoch 00010: val_loss did not improve from 0.50495\n",
            "Epoch 11/30\n",
            "5/5 [==============================] - 22s 4s/step - loss: 0.6502 - accuracy: 0.6538 - val_loss: 0.6135 - val_accuracy: 0.7059\n",
            "\n",
            "Epoch 00011: val_loss did not improve from 0.50495\n",
            "Epoch 12/30\n",
            "5/5 [==============================] - 22s 4s/step - loss: 0.7506 - accuracy: 0.6026 - val_loss: 0.6069 - val_accuracy: 0.7059\n",
            "\n",
            "Epoch 00012: val_loss did not improve from 0.50495\n",
            "Epoch 13/30\n",
            "5/5 [==============================] - 22s 4s/step - loss: 0.7007 - accuracy: 0.6474 - val_loss: 0.5971 - val_accuracy: 0.7647\n",
            "\n",
            "Epoch 00013: val_loss did not improve from 0.50495\n",
            "Epoch 14/30\n",
            "5/5 [==============================] - 22s 4s/step - loss: 0.7014 - accuracy: 0.6218 - val_loss: 0.5834 - val_accuracy: 0.7647\n",
            "\n",
            "Epoch 00014: val_loss did not improve from 0.50495\n",
            "Epoch 15/30\n",
            "5/5 [==============================] - 22s 5s/step - loss: 0.6468 - accuracy: 0.6987 - val_loss: 0.5787 - val_accuracy: 0.7647\n",
            "\n",
            "Epoch 00015: val_loss did not improve from 0.50495\n",
            "Epoch 16/30\n",
            "5/5 [==============================] - 22s 4s/step - loss: 0.6695 - accuracy: 0.6538 - val_loss: 0.5767 - val_accuracy: 0.7647\n",
            "\n",
            "Epoch 00016: val_loss did not improve from 0.50495\n",
            "Epoch 17/30\n",
            "5/5 [==============================] - 22s 4s/step - loss: 0.6731 - accuracy: 0.6282 - val_loss: 0.5745 - val_accuracy: 0.7647\n",
            "\n",
            "Epoch 00017: val_loss did not improve from 0.50495\n",
            "Epoch 18/30\n",
            "5/5 [==============================] - 22s 4s/step - loss: 0.7488 - accuracy: 0.6090 - val_loss: 0.5712 - val_accuracy: 0.7647\n",
            "\n",
            "Epoch 00018: val_loss did not improve from 0.50495\n",
            "Epoch 19/30\n",
            "5/5 [==============================] - 22s 4s/step - loss: 0.6605 - accuracy: 0.6474 - val_loss: 0.5680 - val_accuracy: 0.7647\n",
            "\n",
            "Epoch 00019: val_loss did not improve from 0.50495\n",
            "Epoch 20/30\n",
            "5/5 [==============================] - 22s 4s/step - loss: 0.6461 - accuracy: 0.6603 - val_loss: 0.5605 - val_accuracy: 0.7647\n",
            "\n",
            "Epoch 00020: val_loss did not improve from 0.50495\n",
            "Epoch 21/30\n",
            "5/5 [==============================] - 22s 4s/step - loss: 0.6518 - accuracy: 0.6731 - val_loss: 0.5626 - val_accuracy: 0.7647\n",
            "\n",
            "Epoch 00021: val_loss did not improve from 0.50495\n",
            "Epoch 22/30\n",
            "5/5 [==============================] - 23s 4s/step - loss: 0.7037 - accuracy: 0.6218 - val_loss: 0.5638 - val_accuracy: 0.7647\n",
            "\n",
            "Epoch 00022: val_loss did not improve from 0.50495\n",
            "Epoch 23/30\n",
            "5/5 [==============================] - 22s 4s/step - loss: 0.6464 - accuracy: 0.6859 - val_loss: 0.5596 - val_accuracy: 0.7647\n",
            "\n",
            "Epoch 00023: val_loss did not improve from 0.50495\n",
            "Epoch 24/30\n",
            "5/5 [==============================] - 22s 4s/step - loss: 0.7063 - accuracy: 0.6282 - val_loss: 0.5517 - val_accuracy: 0.7647\n",
            "\n",
            "Epoch 00024: val_loss did not improve from 0.50495\n",
            "Epoch 25/30\n",
            "5/5 [==============================] - 21s 4s/step - loss: 0.7331 - accuracy: 0.6410 - val_loss: 0.5483 - val_accuracy: 0.7647\n",
            "\n",
            "Epoch 00025: val_loss did not improve from 0.50495\n",
            "Epoch 26/30\n",
            "5/5 [==============================] - 21s 4s/step - loss: 0.6812 - accuracy: 0.6218 - val_loss: 0.5412 - val_accuracy: 0.7647\n",
            "\n",
            "Epoch 00026: val_loss did not improve from 0.50495\n",
            "Epoch 27/30\n",
            "5/5 [==============================] - 21s 4s/step - loss: 0.6447 - accuracy: 0.6346 - val_loss: 0.5372 - val_accuracy: 0.7647\n",
            "\n",
            "Epoch 00027: val_loss did not improve from 0.50495\n",
            "Epoch 28/30\n",
            "5/5 [==============================] - 21s 4s/step - loss: 0.6925 - accuracy: 0.5577 - val_loss: 0.5370 - val_accuracy: 0.7647\n",
            "\n",
            "Epoch 00028: val_loss did not improve from 0.50495\n",
            "Epoch 29/30\n",
            "5/5 [==============================] - 21s 4s/step - loss: 0.7076 - accuracy: 0.6282 - val_loss: 0.5374 - val_accuracy: 0.7647\n",
            "\n",
            "Epoch 00029: val_loss did not improve from 0.50495\n",
            "Epoch 30/30\n",
            "5/5 [==============================] - 21s 4s/step - loss: 0.6415 - accuracy: 0.6923 - val_loss: 0.5373 - val_accuracy: 0.7647\n",
            "\n",
            "Epoch 00030: val_loss did not improve from 0.50495\n",
            "Found 20 validated image filenames belonging to 2 classes.\n",
            "1/1 [==============================] - 2s 2s/step - loss: 0.6567 - accuracy: 0.7000\n",
            "Found 156 validated image filenames belonging to 2 classes.\n",
            "Found 17 validated image filenames belonging to 2 classes.\n"
          ]
        },
        {
          "output_type": "stream",
          "name": "stderr",
          "text": [
            "/usr/local/lib/python3.7/dist-packages/keras/engine/training.py:1972: UserWarning: `Model.fit_generator` is deprecated and will be removed in a future version. Please use `Model.fit`, which supports generators.\n",
            "  warnings.warn('`Model.fit_generator` is deprecated and '\n"
          ]
        },
        {
          "output_type": "stream",
          "name": "stdout",
          "text": [
            "Epoch 1/30\n",
            "5/5 [==============================] - 32s 5s/step - loss: 0.8108 - accuracy: 0.5641 - val_loss: 1.1053 - val_accuracy: 0.5882\n",
            "\n",
            "Epoch 00001: val_loss did not improve from 0.50495\n",
            "Epoch 2/30\n",
            "5/5 [==============================] - 21s 4s/step - loss: 0.8771 - accuracy: 0.4744 - val_loss: 0.8574 - val_accuracy: 0.6471\n",
            "\n",
            "Epoch 00002: val_loss did not improve from 0.50495\n",
            "Epoch 3/30\n",
            "5/5 [==============================] - 21s 4s/step - loss: 0.7299 - accuracy: 0.5705 - val_loss: 0.7408 - val_accuracy: 0.7647\n",
            "\n",
            "Epoch 00003: val_loss did not improve from 0.50495\n",
            "Epoch 4/30\n",
            "5/5 [==============================] - 21s 4s/step - loss: 0.7720 - accuracy: 0.5641 - val_loss: 0.7282 - val_accuracy: 0.7647\n",
            "\n",
            "Epoch 00004: val_loss did not improve from 0.50495\n",
            "Epoch 5/30\n",
            "5/5 [==============================] - 21s 4s/step - loss: 0.7159 - accuracy: 0.6282 - val_loss: 0.7796 - val_accuracy: 0.5882\n",
            "\n",
            "Epoch 00005: val_loss did not improve from 0.50495\n",
            "Epoch 6/30\n",
            "5/5 [==============================] - 21s 4s/step - loss: 0.7454 - accuracy: 0.5833 - val_loss: 0.8123 - val_accuracy: 0.5294\n",
            "\n",
            "Epoch 00006: val_loss did not improve from 0.50495\n",
            "Epoch 7/30\n",
            "5/5 [==============================] - 21s 4s/step - loss: 0.7377 - accuracy: 0.6026 - val_loss: 0.8918 - val_accuracy: 0.4706\n",
            "\n",
            "Epoch 00007: val_loss did not improve from 0.50495\n",
            "\n",
            "Epoch 00007: ReduceLROnPlateau reducing learning rate to 5.0000002374872565e-05.\n",
            "Epoch 8/30\n",
            "5/5 [==============================] - 21s 4s/step - loss: 0.7135 - accuracy: 0.6346 - val_loss: 0.8840 - val_accuracy: 0.4706\n",
            "\n",
            "Epoch 00008: val_loss did not improve from 0.50495\n",
            "Epoch 9/30\n",
            "5/5 [==============================] - 21s 4s/step - loss: 0.7140 - accuracy: 0.5833 - val_loss: 0.8685 - val_accuracy: 0.4706\n",
            "\n",
            "Epoch 00009: val_loss did not improve from 0.50495\n",
            "Epoch 00009: early stopping\n",
            "Found 20 validated image filenames belonging to 2 classes.\n",
            "1/1 [==============================] - 2s 2s/step - loss: 0.5712 - accuracy: 0.7000\n",
            "Found 156 validated image filenames belonging to 2 classes.\n",
            "Found 17 validated image filenames belonging to 2 classes.\n"
          ]
        },
        {
          "output_type": "stream",
          "name": "stderr",
          "text": [
            "/usr/local/lib/python3.7/dist-packages/keras/engine/training.py:1972: UserWarning: `Model.fit_generator` is deprecated and will be removed in a future version. Please use `Model.fit`, which supports generators.\n",
            "  warnings.warn('`Model.fit_generator` is deprecated and '\n"
          ]
        },
        {
          "output_type": "stream",
          "name": "stdout",
          "text": [
            "Epoch 1/30\n",
            "5/5 [==============================] - 34s 5s/step - loss: 0.8163 - accuracy: 0.5513 - val_loss: 1.1834 - val_accuracy: 0.4706\n",
            "\n",
            "Epoch 00001: val_loss did not improve from 0.50495\n",
            "Epoch 2/30\n",
            "5/5 [==============================] - 22s 4s/step - loss: 0.7448 - accuracy: 0.6154 - val_loss: 0.9944 - val_accuracy: 0.4706\n",
            "\n",
            "Epoch 00002: val_loss did not improve from 0.50495\n",
            "Epoch 3/30\n",
            "5/5 [==============================] - 21s 4s/step - loss: 0.7075 - accuracy: 0.6026 - val_loss: 1.0867 - val_accuracy: 0.5294\n",
            "\n",
            "Epoch 00003: val_loss did not improve from 0.50495\n",
            "Epoch 4/30\n",
            "5/5 [==============================] - 21s 4s/step - loss: 0.7476 - accuracy: 0.5833 - val_loss: 0.8657 - val_accuracy: 0.5882\n",
            "\n",
            "Epoch 00004: val_loss did not improve from 0.50495\n",
            "Epoch 5/30\n",
            "5/5 [==============================] - 21s 4s/step - loss: 0.7575 - accuracy: 0.5705 - val_loss: 0.8318 - val_accuracy: 0.5882\n",
            "\n",
            "Epoch 00005: val_loss did not improve from 0.50495\n",
            "Epoch 6/30\n",
            "5/5 [==============================] - 21s 4s/step - loss: 0.7135 - accuracy: 0.6603 - val_loss: 0.8551 - val_accuracy: 0.5294\n",
            "\n",
            "Epoch 00006: val_loss did not improve from 0.50495\n",
            "Epoch 7/30\n",
            "5/5 [==============================] - 21s 4s/step - loss: 0.7589 - accuracy: 0.6026 - val_loss: 0.8252 - val_accuracy: 0.5882\n",
            "\n",
            "Epoch 00007: val_loss did not improve from 0.50495\n",
            "Epoch 8/30\n",
            "5/5 [==============================] - 21s 4s/step - loss: 0.7211 - accuracy: 0.6282 - val_loss: 0.8162 - val_accuracy: 0.5294\n",
            "\n",
            "Epoch 00008: val_loss did not improve from 0.50495\n",
            "Epoch 9/30\n",
            "5/5 [==============================] - 21s 4s/step - loss: 0.6944 - accuracy: 0.6346 - val_loss: 0.7878 - val_accuracy: 0.5294\n",
            "\n",
            "Epoch 00009: val_loss did not improve from 0.50495\n",
            "Epoch 10/30\n",
            "5/5 [==============================] - 21s 4s/step - loss: 0.6987 - accuracy: 0.6603 - val_loss: 0.9089 - val_accuracy: 0.5294\n",
            "\n",
            "Epoch 00010: val_loss did not improve from 0.50495\n",
            "Epoch 11/30\n",
            "5/5 [==============================] - 22s 4s/step - loss: 0.6156 - accuracy: 0.6795 - val_loss: 0.8679 - val_accuracy: 0.5294\n",
            "\n",
            "Epoch 00011: val_loss did not improve from 0.50495\n",
            "Epoch 12/30\n",
            "5/5 [==============================] - 22s 4s/step - loss: 0.6267 - accuracy: 0.6859 - val_loss: 0.8726 - val_accuracy: 0.5294\n",
            "\n",
            "Epoch 00012: val_loss did not improve from 0.50495\n",
            "\n",
            "Epoch 00012: ReduceLROnPlateau reducing learning rate to 5.0000002374872565e-05.\n",
            "Epoch 13/30\n",
            "5/5 [==============================] - 22s 4s/step - loss: 0.6854 - accuracy: 0.5962 - val_loss: 0.8520 - val_accuracy: 0.5294\n",
            "\n",
            "Epoch 00013: val_loss did not improve from 0.50495\n",
            "Epoch 14/30\n",
            "5/5 [==============================] - 21s 4s/step - loss: 0.6470 - accuracy: 0.6474 - val_loss: 0.8371 - val_accuracy: 0.5294\n",
            "\n",
            "Epoch 00014: val_loss did not improve from 0.50495\n",
            "Epoch 00014: early stopping\n",
            "Found 20 validated image filenames belonging to 2 classes.\n",
            "1/1 [==============================] - 2s 2s/step - loss: 0.3374 - accuracy: 0.8000\n"
          ]
        }
      ]
    }
  ]
}